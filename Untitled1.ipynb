{
 "cells": [
  {
   "cell_type": "code",
   "execution_count": 3,
   "id": "0d813146-cb77-417d-9ce7-20a137ae66bc",
   "metadata": {},
   "outputs": [
    {
     "name": "stdout",
     "output_type": "stream",
     "text": [
      "Filtered dependencies saved to filtered_requirements.txt\n"
     ]
    }
   ],
   "source": [
    "import re\n",
    "\n",
    "# Function to filter out dependencies with file paths\n",
    "def filter_dependencies(input_file, output_file):\n",
    "    with open(input_file, 'r') as infile:\n",
    "        lines = infile.readlines()\n",
    "\n",
    "    # Define a pattern to match file dependencies (lines with 'file://' or local paths)\n",
    "    pattern = re.compile(r'file://')\n",
    "\n",
    "    # Filter out lines with file:// or local paths\n",
    "    filtered_lines = [line for line in lines if not pattern.search(line)]\n",
    "\n",
    "    # Write the filtered dependencies to a new file\n",
    "    with open(output_file, 'w') as outfile:\n",
    "        outfile.writelines(filtered_lines)\n",
    "\n",
    "    print(f\"Filtered dependencies saved to {output_file}\")\n",
    "\n",
    "# Example usage\n",
    "input_file = r\"I:\\Flask_App\\requirements.txt\" # Replace with your actual requirements file path\n",
    "output_file = 'filtered_requirements.txt'  # Output filtered dependencies\n",
    "\n",
    "filter_dependencies(input_file, output_file)\n"
   ]
  },
  {
   "cell_type": "code",
   "execution_count": null,
   "id": "be09710c-65e8-422c-9425-6e3624e4a761",
   "metadata": {},
   "outputs": [],
   "source": []
  }
 ],
 "metadata": {
  "kernelspec": {
   "display_name": "Python (geo_env)",
   "language": "python",
   "name": "geo_env"
  },
  "language_info": {
   "codemirror_mode": {
    "name": "ipython",
    "version": 3
   },
   "file_extension": ".py",
   "mimetype": "text/x-python",
   "name": "python",
   "nbconvert_exporter": "python",
   "pygments_lexer": "ipython3",
   "version": "3.11.11"
  }
 },
 "nbformat": 4,
 "nbformat_minor": 5
}
